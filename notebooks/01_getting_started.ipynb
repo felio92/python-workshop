{
 "cells": [
  {
   "cell_type": "markdown",
   "metadata": {},
   "source": [
    "## Python Introduction Notebook\n",
    "\n",
    "Lets start with some basic Python syntax and create a function that calculates the Fibonacci sequence :P"
   ]
  },
  {
   "cell_type": "markdown",
   "metadata": {},
   "source": [
    "Variable declaration and initialization in Python is easy! Simply give the variable name and the value it is supposed to take. The variable type is inferred from the value it is given"
   ]
  },
  {
   "cell_type": "code",
   "execution_count": 2,
   "metadata": {},
   "outputs": [
    {
     "name": "stdout",
     "output_type": "stream",
     "text": [
      "5\n",
      "hello world! \n",
      "goodbye world!\n",
      "6.5\n",
      "hello world! goodbye world!\n",
      "a is of type <class 'int'>\n",
      "b is of type <class 'str'>\n",
      "c is of type <class 'str'>\n"
     ]
    }
   ],
   "source": [
    "a = 5\n",
    "b = \"hello world! \"\n",
    "c = \"goodbye world!\"\n",
    "d= 1.5\n",
    "\n",
    "# print the variables that we just declared\n",
    "print(a)\n",
    "print(b)\n",
    "print(c)\n",
    "\n",
    "# some data types can be added together\n",
    "\n",
    "print (a+d)\n",
    "print(b+c) \n",
    "\n",
    "# print the type of the variables that we just defined\n",
    "\n",
    "print(\"a is of type\", type(a))\n",
    "print(\"b is of type\", type(b))\n",
    "print(\"c is of type\", type(c))\n"
   ]
  },
  {
   "cell_type": "markdown",
   "metadata": {},
   "source": [
    "Pure Python (i.e. Python without any added libraries) offers a number of different data structures out of the box, lists, dictionaries and tuples being some of the most important ones."
   ]
  },
  {
   "cell_type": "markdown",
   "metadata": {},
   "source": [
    "### Lists\n",
    "\n",
    "A list stores a sequence of elements, which can be of any data type that Python supports"
   ]
  },
  {
   "cell_type": "code",
   "execution_count": 3,
   "metadata": {},
   "outputs": [
    {
     "name": "stdout",
     "output_type": "stream",
     "text": [
      "[1, 2, 3, 4] ['a', 'b', 'c'] [1.5, 'hello', 4]\n"
     ]
    }
   ],
   "source": [
    "list_a = [1, 2, 3, 4]\n",
    "list_b = [\"a\", \"b\", \"c\"]\n",
    "list_c = [1.5, \"hello\", 4]\n",
    "\n",
    "print(list_a, list_b, list_c)"
   ]
  },
  {
   "cell_type": "markdown",
   "metadata": {},
   "source": [
    "If we want to retrieve a certain element from a given list, we can do so by using the index at which the element is located within the list. Python indexing begins at 0, so the first element will be found at index 0."
   ]
  },
  {
   "cell_type": "code",
   "execution_count": 4,
   "metadata": {},
   "outputs": [
    {
     "name": "stdout",
     "output_type": "stream",
     "text": [
      "1\n",
      "2\n"
     ]
    }
   ],
   "source": [
    "element_1 = list_a[0]\n",
    "print(element_1)\n",
    "element_2 = list_a[1]\n",
    "print(element_2)"
   ]
  },
  {
   "cell_type": "markdown",
   "metadata": {},
   "source": [
    "Try retrieving the element \"hello\" from list_c using the methods just described:"
   ]
  },
  {
   "cell_type": "code",
   "execution_count": null,
   "metadata": {},
   "outputs": [],
   "source": []
  },
  {
   "cell_type": "markdown",
   "metadata": {},
   "source": [
    "To retrieve a sequence of elements from a given list, we can make use of so-called \"slices\" which allows for \"slicing\" a given list into a sub-set. We do so by defining a starting index and a (non-inclusive) end index, which are delimited using a colon :"
   ]
  },
  {
   "cell_type": "code",
   "execution_count": 5,
   "metadata": {},
   "outputs": [
    {
     "name": "stdout",
     "output_type": "stream",
     "text": [
      "[1, 2, 3]\n",
      "[1, 2, 3]\n",
      "[3, 4]\n",
      "[3, 4]\n",
      "[3]\n"
     ]
    }
   ],
   "source": [
    "slice_1 = list_a[0:3]\n",
    "print(slice_1)\n",
    "slice_2 = list_a[:3]\n",
    "print(slice_2)\n",
    "slice_3 = list_a[2:]\n",
    "print(slice_3)\n",
    "slice_4 = list_a[2:4]\n",
    "print(slice_4)\n",
    "slice_5 = list_a[2:-1]\n",
    "print(slice_5)"
   ]
  },
  {
   "cell_type": "markdown",
   "metadata": {},
   "source": [
    "Notice that slice_1 and slice_2 result in an identical output. This is also true for slice_3 and slice_4. When the side left to the : is left empty, Python interprets this simply as if you had put a 0 there. If the right side to the : is left empty, Python simply interprets this as if you had put the index signifying the last element of the list there.\n",
    "\n",
    "Negative indices, such as the one used on the right side of the : in slice_5, indicate the index position relative to the end of a list. -1 here simply indicates the second-to-last element in the list.\n",
    "\n",
    "Try slicing list_a, list_b and list_c in several ways! What happens when you add another colon, after the second element of the slice, such as ``list_a[0:4:2]``?"
   ]
  },
  {
   "cell_type": "code",
   "execution_count": null,
   "metadata": {},
   "outputs": [],
   "source": []
  },
  {
   "cell_type": "markdown",
   "metadata": {},
   "source": [
    "## Functions\n",
    "\n",
    "Functions are particularly useful when you want to perform a certain operation repeatedly or on a number of different inputs. We'll give some simple examples first and then try to create our first own function!"
   ]
  },
  {
   "cell_type": "code",
   "execution_count": 6,
   "metadata": {},
   "outputs": [],
   "source": [
    "def foo(x):\n",
    "    return x"
   ]
  },
  {
   "cell_type": "code",
   "execution_count": 7,
   "metadata": {},
   "outputs": [
    {
     "name": "stdout",
     "output_type": "stream",
     "text": [
      "5\n",
      "hello!\n",
      "[1, 2, 3]\n"
     ]
    }
   ],
   "source": [
    "print(foo(5))\n",
    "print(foo(\"hello!\"))\n",
    "print(foo([1,2,3]))"
   ]
  },
  {
   "cell_type": "markdown",
   "metadata": {},
   "source": [
    "The above function takes a variable x and simply returns it. As this function is pretty boring, let's try to create a function that takes more than one input and does something with them!"
   ]
  },
  {
   "cell_type": "code",
   "execution_count": 8,
   "metadata": {},
   "outputs": [],
   "source": [
    "def bar(x, a=5):\n",
    "    return x+a"
   ]
  },
  {
   "cell_type": "code",
   "execution_count": 13,
   "metadata": {},
   "outputs": [
    {
     "name": "stdout",
     "output_type": "stream",
     "text": [
      "The result when we supply only value for x: 7\n",
      "The result when we supply values for x and a: 4\n"
     ]
    }
   ],
   "source": [
    "x=2\n",
    "print(\"The result when we supply only value for x:\", bar(x))\n",
    "print(\"The result when we supply values for x and a:\", bar(x, 2))"
   ]
  },
  {
   "cell_type": "markdown",
   "metadata": {},
   "source": [
    "The above function also demonstrates the setting of default values for variables. The variable `a` can be set when calling the function, but if not set will default to the value 5 in this example.\n",
    "\n",
    "Try to create a function that takes two values $x$ and $y$ and multiplies them. Add an optional argument $a$ that is subtracted from the result, with the default value of a being 0."
   ]
  },
  {
   "cell_type": "code",
   "execution_count": null,
   "metadata": {},
   "outputs": [],
   "source": []
  },
  {
   "cell_type": "markdown",
   "metadata": {},
   "source": [
    "### For and While Loops\n",
    "\n",
    "If we want to iterate over a certain range of values, we can use For and While Loops. For loops iterate over a fixed range of values, whereas While loops keep running until a certain criteria is met. Generally it is recommended to avoid using While loops as they can cause a program to hang, in case the breakoff condition is never met.\n",
    "\n",
    "Below are a number of examples for both kind of loops."
   ]
  },
  {
   "cell_type": "code",
   "execution_count": 24,
   "metadata": {},
   "outputs": [
    {
     "name": "stdout",
     "output_type": "stream",
     "text": [
      "0\n",
      "1\n",
      "2\n",
      "3\n",
      "4\n",
      "5\n",
      "6\n",
      "7\n",
      "8\n",
      "9\n"
     ]
    }
   ],
   "source": [
    "for i in range(10):\n",
    "    # loops from 0 to 9\n",
    "    print(i)\n"
   ]
  },
  {
   "cell_type": "code",
   "execution_count": 25,
   "metadata": {},
   "outputs": [
    {
     "name": "stdout",
     "output_type": "stream",
     "text": [
      "5\n",
      "7\n",
      "9\n"
     ]
    }
   ],
   "source": [
    "for i in range(5, 10, 2):\n",
    "    # loops from 5 to 9, in steps of 2\n",
    "    print(i)"
   ]
  },
  {
   "cell_type": "code",
   "execution_count": 26,
   "metadata": {},
   "outputs": [
    {
     "name": "stdout",
     "output_type": "stream",
     "text": [
      "2\n",
      "3\n",
      "5\n",
      "7\n",
      "11\n"
     ]
    }
   ],
   "source": [
    "list_loop = [2, 3, 5, 7, 11]\n",
    "\n",
    "for element in list_loop:\n",
    "    # loops through all elements found in list\n",
    "    print(element)"
   ]
  },
  {
   "cell_type": "code",
   "execution_count": 27,
   "metadata": {},
   "outputs": [
    {
     "name": "stdout",
     "output_type": "stream",
     "text": [
      "2\n",
      "3\n",
      "5\n",
      "7\n",
      "11\n"
     ]
    }
   ],
   "source": [
    "for i in range(len(list_loop)):\n",
    "    # loops from 0 to length of list -1 \n",
    "    print(list_loop[i]) # print i-th element of list"
   ]
  },
  {
   "cell_type": "code",
   "execution_count": 31,
   "metadata": {},
   "outputs": [
    {
     "name": "stdout",
     "output_type": "stream",
     "text": [
      "0\n",
      "1\n",
      "2\n",
      "3\n",
      "4\n",
      "5\n",
      "6\n",
      "7\n",
      "8\n",
      "9\n"
     ]
    }
   ],
   "source": [
    "run_condition = True\n",
    "i=0\n",
    "while run_condition:\n",
    "    if i>=10:\n",
    "        run_condition=False\n",
    "    elif i<10:\n",
    "         print(i)\n",
    "         i+=1\n",
    "    else:\n",
    "        print(\"This condition is never met!\")"
   ]
  },
  {
   "cell_type": "code",
   "execution_count": 67,
   "metadata": {},
   "outputs": [],
   "source": [
    "# an example of a function containing both a for loop and if conditions!\n",
    "def fibonacci(n):\n",
    "    if n<=2:\n",
    "        return 1\n",
    "    f1, f2 = 1, 1\n",
    "    for i in range(2, n):\n",
    "        f = f1 + f2\n",
    "        f2 = f1\n",
    "        f1 = f\n",
    "    return f\n"
   ]
  },
  {
   "cell_type": "code",
   "execution_count": null,
   "metadata": {},
   "outputs": [],
   "source": []
  }
 ],
 "metadata": {
  "kernelspec": {
   "display_name": "python-workshop",
   "language": "python",
   "name": "python3"
  },
  "language_info": {
   "codemirror_mode": {
    "name": "ipython",
    "version": 3
   },
   "file_extension": ".py",
   "mimetype": "text/x-python",
   "name": "python",
   "nbconvert_exporter": "python",
   "pygments_lexer": "ipython3",
   "version": "3.9.19"
  }
 },
 "nbformat": 4,
 "nbformat_minor": 2
}
